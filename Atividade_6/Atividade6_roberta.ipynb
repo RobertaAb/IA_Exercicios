{
 "cells": [
  {
   "cell_type": "code",
   "execution_count": 1,
   "id": "fb3395cb",
   "metadata": {},
   "outputs": [],
   "source": [
    "# Importação de Bibliotecas\n",
    "import matplotlib.pyplot as plt\n",
    "import pandas as pd\n",
    "from sklearn.cluster import KMeans"
   ]
  },
  {
   "cell_type": "code",
   "execution_count": 2,
   "id": "48ab3751",
   "metadata": {},
   "outputs": [
    {
     "data": {
      "text/html": [
       "<div>\n",
       "<style scoped>\n",
       "    .dataframe tbody tr th:only-of-type {\n",
       "        vertical-align: middle;\n",
       "    }\n",
       "\n",
       "    .dataframe tbody tr th {\n",
       "        vertical-align: top;\n",
       "    }\n",
       "\n",
       "    .dataframe thead th {\n",
       "        text-align: right;\n",
       "    }\n",
       "</style>\n",
       "<table border=\"1\" class=\"dataframe\">\n",
       "  <thead>\n",
       "    <tr style=\"text-align: right;\">\n",
       "      <th></th>\n",
       "      <th>CustomerID</th>\n",
       "      <th>Dealership</th>\n",
       "      <th>Showroom</th>\n",
       "      <th>ComputerSearch</th>\n",
       "      <th>M5</th>\n",
       "      <th>3Series</th>\n",
       "      <th>Z4</th>\n",
       "      <th>Financing</th>\n",
       "      <th>Purchase</th>\n",
       "    </tr>\n",
       "  </thead>\n",
       "  <tbody>\n",
       "    <tr>\n",
       "      <th>0</th>\n",
       "      <td>1</td>\n",
       "      <td>1</td>\n",
       "      <td>0</td>\n",
       "      <td>0</td>\n",
       "      <td>0</td>\n",
       "      <td>0</td>\n",
       "      <td>0</td>\n",
       "      <td>0</td>\n",
       "      <td>0</td>\n",
       "    </tr>\n",
       "    <tr>\n",
       "      <th>1</th>\n",
       "      <td>2</td>\n",
       "      <td>1</td>\n",
       "      <td>1</td>\n",
       "      <td>1</td>\n",
       "      <td>0</td>\n",
       "      <td>0</td>\n",
       "      <td>0</td>\n",
       "      <td>1</td>\n",
       "      <td>0</td>\n",
       "    </tr>\n",
       "    <tr>\n",
       "      <th>2</th>\n",
       "      <td>3</td>\n",
       "      <td>1</td>\n",
       "      <td>0</td>\n",
       "      <td>0</td>\n",
       "      <td>0</td>\n",
       "      <td>0</td>\n",
       "      <td>0</td>\n",
       "      <td>0</td>\n",
       "      <td>0</td>\n",
       "    </tr>\n",
       "    <tr>\n",
       "      <th>3</th>\n",
       "      <td>4</td>\n",
       "      <td>1</td>\n",
       "      <td>1</td>\n",
       "      <td>1</td>\n",
       "      <td>1</td>\n",
       "      <td>0</td>\n",
       "      <td>0</td>\n",
       "      <td>1</td>\n",
       "      <td>1</td>\n",
       "    </tr>\n",
       "    <tr>\n",
       "      <th>4</th>\n",
       "      <td>5</td>\n",
       "      <td>1</td>\n",
       "      <td>0</td>\n",
       "      <td>1</td>\n",
       "      <td>1</td>\n",
       "      <td>1</td>\n",
       "      <td>0</td>\n",
       "      <td>1</td>\n",
       "      <td>1</td>\n",
       "    </tr>\n",
       "  </tbody>\n",
       "</table>\n",
       "</div>"
      ],
      "text/plain": [
       "   CustomerID   Dealership   Showroom   ComputerSearch   M5   3Series   Z4  \\\n",
       "0           1            1          0                0    0         0    0   \n",
       "1           2            1          1                1    0         0    0   \n",
       "2           3            1          0                0    0         0    0   \n",
       "3           4            1          1                1    1         0    0   \n",
       "4           5            1          0                1    1         1    0   \n",
       "\n",
       "    Financing   Purchase  \n",
       "0           0          0  \n",
       "1           1          0  \n",
       "2           0          0  \n",
       "3           1          1  \n",
       "4           1          1  "
      ]
     },
     "execution_count": 2,
     "metadata": {},
     "output_type": "execute_result"
    }
   ],
   "source": [
    "# Leitura de Dados no formato .CSV\n",
    "bmw = pd.read_csv(\"bmw.csv\", sep=';')\n",
    "bmw.head() # primeiros 5 registros"
   ]
  },
  {
   "cell_type": "code",
   "execution_count": 3,
   "id": "ead0d51c",
   "metadata": {},
   "outputs": [
    {
     "data": {
      "text/plain": [
       "(100, 9)"
      ]
     },
     "execution_count": 3,
     "metadata": {},
     "output_type": "execute_result"
    }
   ],
   "source": [
    "# Informações quantitativas do dataset: 100 linhas e 9 colunas\n",
    "bmw.shape\n"
   ]
  },
  {
   "cell_type": "code",
   "execution_count": 19,
   "id": "9779d593",
   "metadata": {},
   "outputs": [
    {
     "data": {
      "text/html": [
       "<div>\n",
       "<style scoped>\n",
       "    .dataframe tbody tr th:only-of-type {\n",
       "        vertical-align: middle;\n",
       "    }\n",
       "\n",
       "    .dataframe tbody tr th {\n",
       "        vertical-align: top;\n",
       "    }\n",
       "\n",
       "    .dataframe thead th {\n",
       "        text-align: right;\n",
       "    }\n",
       "</style>\n",
       "<table border=\"1\" class=\"dataframe\">\n",
       "  <thead>\n",
       "    <tr style=\"text-align: right;\">\n",
       "      <th></th>\n",
       "      <th>CustomerID</th>\n",
       "      <th>Dealership</th>\n",
       "      <th>Showroom</th>\n",
       "      <th>ComputerSearch</th>\n",
       "      <th>M5</th>\n",
       "      <th>3Series</th>\n",
       "      <th>Z4</th>\n",
       "      <th>Financing</th>\n",
       "      <th>Purchase</th>\n",
       "    </tr>\n",
       "  </thead>\n",
       "  <tbody>\n",
       "    <tr>\n",
       "      <th>count</th>\n",
       "      <td>100.000000</td>\n",
       "      <td>100.000000</td>\n",
       "      <td>100.000000</td>\n",
       "      <td>100.00000</td>\n",
       "      <td>100.000000</td>\n",
       "      <td>100.00</td>\n",
       "      <td>100.00</td>\n",
       "      <td>100.000000</td>\n",
       "      <td>100.000000</td>\n",
       "    </tr>\n",
       "    <tr>\n",
       "      <th>mean</th>\n",
       "      <td>50.500000</td>\n",
       "      <td>0.600000</td>\n",
       "      <td>0.720000</td>\n",
       "      <td>0.43000</td>\n",
       "      <td>0.530000</td>\n",
       "      <td>0.55</td>\n",
       "      <td>0.45</td>\n",
       "      <td>0.610000</td>\n",
       "      <td>0.390000</td>\n",
       "    </tr>\n",
       "    <tr>\n",
       "      <th>std</th>\n",
       "      <td>29.011492</td>\n",
       "      <td>0.492366</td>\n",
       "      <td>0.451261</td>\n",
       "      <td>0.49757</td>\n",
       "      <td>0.501614</td>\n",
       "      <td>0.50</td>\n",
       "      <td>0.50</td>\n",
       "      <td>0.490207</td>\n",
       "      <td>0.490207</td>\n",
       "    </tr>\n",
       "    <tr>\n",
       "      <th>min</th>\n",
       "      <td>1.000000</td>\n",
       "      <td>0.000000</td>\n",
       "      <td>0.000000</td>\n",
       "      <td>0.00000</td>\n",
       "      <td>0.000000</td>\n",
       "      <td>0.00</td>\n",
       "      <td>0.00</td>\n",
       "      <td>0.000000</td>\n",
       "      <td>0.000000</td>\n",
       "    </tr>\n",
       "    <tr>\n",
       "      <th>25%</th>\n",
       "      <td>25.750000</td>\n",
       "      <td>0.000000</td>\n",
       "      <td>0.000000</td>\n",
       "      <td>0.00000</td>\n",
       "      <td>0.000000</td>\n",
       "      <td>0.00</td>\n",
       "      <td>0.00</td>\n",
       "      <td>0.000000</td>\n",
       "      <td>0.000000</td>\n",
       "    </tr>\n",
       "    <tr>\n",
       "      <th>50%</th>\n",
       "      <td>50.500000</td>\n",
       "      <td>1.000000</td>\n",
       "      <td>1.000000</td>\n",
       "      <td>0.00000</td>\n",
       "      <td>1.000000</td>\n",
       "      <td>1.00</td>\n",
       "      <td>0.00</td>\n",
       "      <td>1.000000</td>\n",
       "      <td>0.000000</td>\n",
       "    </tr>\n",
       "    <tr>\n",
       "      <th>75%</th>\n",
       "      <td>75.250000</td>\n",
       "      <td>1.000000</td>\n",
       "      <td>1.000000</td>\n",
       "      <td>1.00000</td>\n",
       "      <td>1.000000</td>\n",
       "      <td>1.00</td>\n",
       "      <td>1.00</td>\n",
       "      <td>1.000000</td>\n",
       "      <td>1.000000</td>\n",
       "    </tr>\n",
       "    <tr>\n",
       "      <th>max</th>\n",
       "      <td>100.000000</td>\n",
       "      <td>1.000000</td>\n",
       "      <td>1.000000</td>\n",
       "      <td>1.00000</td>\n",
       "      <td>1.000000</td>\n",
       "      <td>1.00</td>\n",
       "      <td>1.00</td>\n",
       "      <td>1.000000</td>\n",
       "      <td>1.000000</td>\n",
       "    </tr>\n",
       "  </tbody>\n",
       "</table>\n",
       "</div>"
      ],
      "text/plain": [
       "       CustomerID   Dealership    Showroom   ComputerSearch          M5  \\\n",
       "count  100.000000   100.000000  100.000000        100.00000  100.000000   \n",
       "mean    50.500000     0.600000    0.720000          0.43000    0.530000   \n",
       "std     29.011492     0.492366    0.451261          0.49757    0.501614   \n",
       "min      1.000000     0.000000    0.000000          0.00000    0.000000   \n",
       "25%     25.750000     0.000000    0.000000          0.00000    0.000000   \n",
       "50%     50.500000     1.000000    1.000000          0.00000    1.000000   \n",
       "75%     75.250000     1.000000    1.000000          1.00000    1.000000   \n",
       "max    100.000000     1.000000    1.000000          1.00000    1.000000   \n",
       "\n",
       "        3Series      Z4   Financing    Purchase  \n",
       "count    100.00  100.00  100.000000  100.000000  \n",
       "mean       0.55    0.45    0.610000    0.390000  \n",
       "std        0.50    0.50    0.490207    0.490207  \n",
       "min        0.00    0.00    0.000000    0.000000  \n",
       "25%        0.00    0.00    0.000000    0.000000  \n",
       "50%        1.00    0.00    1.000000    0.000000  \n",
       "75%        1.00    1.00    1.000000    1.000000  \n",
       "max        1.00    1.00    1.000000    1.000000  "
      ]
     },
     "execution_count": 19,
     "metadata": {},
     "output_type": "execute_result"
    }
   ],
   "source": [
    "bmw.describe()"
   ]
  },
  {
   "cell_type": "code",
   "execution_count": 4,
   "id": "20b2c9f0",
   "metadata": {},
   "outputs": [],
   "source": [
    "# Para Agrupamento (clustering), feature \"id\" não é bem-vinda!\n",
    "# Vamos excluir o CustomerID..Vamos lá !\n",
    "# Agora ficará: 0.Dealership, 1.Showroom, 2.ComputerSearch, 3.M5, 4.3Series, 5.Z4, 6.Financing, 7.Purchase\n",
    "Xbmw = bmw.iloc[:, 1:9].values"
   ]
  },
  {
   "cell_type": "code",
   "execution_count": 5,
   "id": "421f9e43",
   "metadata": {},
   "outputs": [
    {
     "data": {
      "text/plain": [
       "KMeans(algorithm='auto', copy_x=True, init='random', max_iter=300, n_clusters=3,\n",
       "       n_init=10, n_jobs=None, precompute_distances='auto', random_state=None,\n",
       "       tol=0.0001, verbose=0)"
      ]
     },
     "execution_count": 5,
     "metadata": {},
     "output_type": "execute_result"
    }
   ],
   "source": [
    "# Criação do modelo de Agrupamento (Clustering) usando K-Means\n",
    "# Parametrizando K-Means com 3 Clusters e Metodo de Inicialização Randômica\n",
    "kmeans = KMeans(n_clusters = 3, init = 'random')\n",
    "kmeans\n"
   ]
  },
  {
   "cell_type": "code",
   "execution_count": 6,
   "id": "e586cb2a",
   "metadata": {},
   "outputs": [
    {
     "data": {
      "text/plain": [
       "KMeans(algorithm='auto', copy_x=True, init='random', max_iter=300, n_clusters=3,\n",
       "       n_init=10, n_jobs=None, precompute_distances='auto', random_state=None,\n",
       "       tol=0.0001, verbose=0)"
      ]
     },
     "execution_count": 6,
     "metadata": {},
     "output_type": "execute_result"
    }
   ],
   "source": [
    "# Treino do modelo com os Dados\n",
    "kmeans.fit(Xbmw)\n"
   ]
  },
  {
   "cell_type": "code",
   "execution_count": 7,
   "id": "988c42c7",
   "metadata": {},
   "outputs": [
    {
     "data": {
      "text/plain": [
       "array([[ 6.45161290e-02,  1.00000000e+00,  3.54838710e-01,\n",
       "         3.22580645e-02,  1.00000000e+00,  6.77419355e-01,\n",
       "         4.51612903e-01,  2.90322581e-01],\n",
       "       [ 7.66666667e-01,  6.00000000e-01,  4.66666667e-01,\n",
       "         8.33333333e-01,  3.33333333e-01,  3.00000000e-01,\n",
       "         1.00000000e+00,  1.00000000e+00],\n",
       "       [ 8.97435897e-01,  5.89743590e-01,  4.61538462e-01,\n",
       "         6.92307692e-01,  3.58974359e-01,  3.84615385e-01,\n",
       "         4.35897436e-01, -1.66533454e-16]])"
      ]
     },
     "execution_count": 7,
     "metadata": {},
     "output_type": "execute_result"
    }
   ],
   "source": [
    "# Exibindo os Centroids - São 3 grupos, portanto, 3 linhas com 8 colunas = 8 features\n",
    "kmeans.cluster_centers_"
   ]
  },
  {
   "cell_type": "code",
   "execution_count": 8,
   "id": "f9dacc7e",
   "metadata": {},
   "outputs": [
    {
     "data": {
      "text/plain": [
       "KMeans(algorithm='auto', copy_x=True, init='random', max_iter=300, n_clusters=3,\n",
       "       n_init=10, n_jobs=None, precompute_distances='auto', random_state=None,\n",
       "       tol=0.0001, verbose=0)"
      ]
     },
     "execution_count": 8,
     "metadata": {},
     "output_type": "execute_result"
    }
   ],
   "source": [
    "# Treinando novamente o modelo com os Dados - Observe que novos Centroids são calculados (inicialização randômica!)\n",
    "kmeans.fit(Xbmw)\n"
   ]
  },
  {
   "cell_type": "code",
   "execution_count": 9,
   "id": "6340d9eb",
   "metadata": {},
   "outputs": [
    {
     "data": {
      "text/plain": [
       "array([[ 0.00000000e+00,  1.00000000e+00,  3.10344828e-01,\n",
       "         3.44827586e-02,  1.00000000e+00,  6.55172414e-01,\n",
       "         4.82758621e-01,  3.10344828e-01],\n",
       "       [ 7.95454545e-01,  6.81818182e-01,  4.31818182e-01,\n",
       "         8.18181818e-01,  3.18181818e-01,  3.86363636e-01,\n",
       "         1.00000000e+00,  6.81818182e-01],\n",
       "       [ 9.25925926e-01,  4.81481481e-01,  5.55555556e-01,\n",
       "         5.92592593e-01,  4.44444444e-01,  3.33333333e-01,\n",
       "         1.11111111e-01, -5.55111512e-17]])"
      ]
     },
     "execution_count": 9,
     "metadata": {},
     "output_type": "execute_result"
    }
   ],
   "source": [
    "# Exibindo os Centroids - São 3 grupos, portanto, 3 linhas com 8 colunas = 8 features\n",
    "kmeans.cluster_centers_\n"
   ]
  },
  {
   "cell_type": "code",
   "execution_count": 10,
   "id": "f0328c10",
   "metadata": {},
   "outputs": [
    {
     "data": {
      "text/plain": [
       "array([[1.23183714, 1.93629015, 1.87823794],\n",
       "       [1.24220118, 1.7709648 , 1.54739925],\n",
       "       [1.23183714, 1.93629015, 1.87823794],\n",
       "       [1.46916588, 2.11923454, 0.85309893],\n",
       "       [1.61863734, 2.11923454, 1.12299204],\n",
       "       [1.30265495, 1.42812539, 1.93074539],\n",
       "       [1.65001544, 2.13440183, 1.26271313],\n",
       "       [1.36981645, 1.74342827, 1.9818622 ],\n",
       "       [1.35096819, 1.46161429, 1.65159855],\n",
       "       [1.68841822, 2.03379358, 1.288841  ],\n",
       "       [1.36042496, 1.9279423 , 1.63129124],\n",
       "       [1.20020818, 2.1494621 , 1.82421977],\n",
       "       [1.52903092, 2.34332137, 0.96321222],\n",
       "       [1.33185322, 1.66777625, 1.67165919],\n",
       "       [1.31245989, 1.90267898, 1.91340302],\n",
       "       [1.56220987, 1.86846328, 1.03010248],\n",
       "       [1.65001544, 2.13440183, 1.26271313],\n",
       "       [1.31245989, 2.03379358, 1.61072792],\n",
       "       [1.11147266, 1.63850646, 1.73044631],\n",
       "       [1.06433423, 2.16441757, 1.69148193],\n",
       "       [1.66548281, 1.78908705, 1.33956875],\n",
       "       [1.71852267, 2.04959324, 1.41224801],\n",
       "       [1.21084297, 1.68700734, 1.52570567],\n",
       "       [0.97638117, 1.91955814, 1.63129124],\n",
       "       [1.26267408, 1.55776729, 1.54739925],\n",
       "       [1.38840886, 1.29796126, 2.03169333],\n",
       "       [1.26267408, 1.55776729, 1.54739925],\n",
       "       [1.16772282, 1.66777625, 1.41224801],\n",
       "       [1.24220118, 1.61869926, 1.86040617],\n",
       "       [1.26267408, 1.55776729, 1.54739925],\n",
       "       [1.14555425, 1.85111829, 1.43565703],\n",
       "       [1.08815873, 1.82479169, 1.74960313],\n",
       "       [1.65776717, 1.5051075 , 1.288841  ],\n",
       "       [1.38840886, 1.29796126, 2.03169333],\n",
       "       [1.14555425, 1.85111829, 1.43565703],\n",
       "       [1.24220118, 1.61869926, 1.86040617],\n",
       "       [1.53739279, 1.78908705, 0.99721835],\n",
       "       [1.61863734, 1.12487715, 1.80585468],\n",
       "       [1.61863734, 1.12487715, 1.80585468],\n",
       "       [1.55398155, 0.93715091, 2.04803429],\n",
       "       [1.55398155, 0.93715091, 2.04803429],\n",
       "       [1.62653862, 0.72347295, 2.14346552],\n",
       "       [1.88230278, 1.18083905, 1.48136574],\n",
       "       [1.55398155, 0.93715091, 2.04803429],\n",
       "       [1.65001544, 0.902073  , 2.15896066],\n",
       "       [1.61863734, 1.12487715, 1.80585468],\n",
       "       [1.96233434, 1.15319761, 1.63129124],\n",
       "       [1.76997383, 2.1494621 , 1.20876429],\n",
       "       [1.09987747, 2.23047663, 1.71107504],\n",
       "       [1.25247946, 2.17185669, 1.52570567],\n",
       "       [1.7844017 , 1.80702756, 1.288841  ],\n",
       "       [1.47786651, 1.68700734, 1.63129124],\n",
       "       [1.52062308, 1.96112054, 1.03010248],\n",
       "       [0.97638117, 1.91955814, 1.63129124],\n",
       "       [1.42486605, 1.34675005, 1.87823794],\n",
       "       [1.8270018 , 1.82479169, 1.31444961],\n",
       "       [1.48651621, 1.67741935, 1.93074539],\n",
       "       [1.26267408, 2.00986122, 1.89590201],\n",
       "       [1.44274922, 2.04959324, 0.81308739],\n",
       "       [1.53739279, 1.78908705, 0.99721835],\n",
       "       [1.0763124 , 2.01787022, 1.31444961],\n",
       "       [0.97638117, 1.91955814, 1.63129124],\n",
       "       [1.53739279, 1.78908705, 0.99721835],\n",
       "       [1.54570942, 2.03379358, 1.06196882],\n",
       "       [1.03996409, 1.94460218, 1.288841  ],\n",
       "       [1.26267408, 2.00986122, 1.89590201],\n",
       "       [0.97638117, 1.91955814, 1.63129124],\n",
       "       [1.44274922, 2.04959324, 0.81308739],\n",
       "       [1.28282028, 1.63850646, 1.94793338],\n",
       "       [1.44274922, 2.04959324, 0.81308739],\n",
       "       [1.54570942, 2.03379358, 1.06196882],\n",
       "       [1.53739279, 1.78908705, 0.99721835],\n",
       "       [1.74810877, 2.0808327 , 1.18086597],\n",
       "       [1.06433423, 2.16441757, 1.69148193],\n",
       "       [1.57853784, 2.2013618 , 1.12299204],\n",
       "       [1.69599443, 1.82479169, 1.09290642],\n",
       "       [1.43383552, 1.97750092, 1.54739925],\n",
       "       [1.54570942, 2.03379358, 1.06196882],\n",
       "       [1.44274922, 2.04959324, 0.81308739],\n",
       "       [1.48651621, 1.67741935, 1.93074539],\n",
       "       [1.74810877, 2.0808327 , 1.18086597],\n",
       "       [1.8270018 , 1.82479169, 1.31444961],\n",
       "       [1.57853784, 1.0810062 , 2.06424589],\n",
       "       [1.94263558, 1.0195794 , 1.61072792],\n",
       "       [1.62653862, 0.72347295, 2.14346552],\n",
       "       [1.62653862, 0.72347295, 2.14346552],\n",
       "       [1.62653862, 0.72347295, 2.14346552],\n",
       "       [1.94263558, 1.0195794 , 1.61072792],\n",
       "       [1.62653862, 0.72347295, 2.14346552],\n",
       "       [1.65001544, 0.902073  , 2.15896066],\n",
       "       [1.94263558, 1.0195794 , 1.61072792],\n",
       "       [1.94263558, 1.0195794 , 1.61072792],\n",
       "       [1.57853784, 1.0810062 , 2.06424589],\n",
       "       [1.94263558, 1.0195794 , 1.61072792],\n",
       "       [1.66548281, 0.78751972, 1.89590201],\n",
       "       [1.62653862, 0.72347295, 2.14346552],\n",
       "       [1.94263558, 1.0195794 , 1.61072792],\n",
       "       [1.94263558, 1.0195794 , 1.61072792],\n",
       "       [1.62653862, 0.72347295, 2.14346552],\n",
       "       [1.68841822, 0.95420642, 1.91340302]])"
      ]
     },
     "execution_count": 10,
     "metadata": {},
     "output_type": "execute_result"
    }
   ],
   "source": [
    "# Executa K-Means para agrupar os dados e retorna Tabela de Distancias (fit_transform)\n",
    "# Calcula a distância entre os dados de cada linha (instância) e cada um dos 3 clusters\n",
    "distance = kmeans.fit_transform(Xbmw)\n",
    "distance"
   ]
  },
  {
   "cell_type": "code",
   "execution_count": 11,
   "id": "4591d005",
   "metadata": {},
   "outputs": [
    {
     "data": {
      "text/plain": [
       "array([0, 0, 0, 2, 2, 0, 2, 0, 0, 2, 0, 0, 2, 0, 0, 2, 2, 0, 0, 0, 2, 2,\n",
       "       0, 0, 0, 1, 0, 0, 0, 0, 0, 0, 2, 1, 0, 0, 2, 1, 1, 1, 1, 1, 1, 1,\n",
       "       1, 1, 1, 2, 0, 0, 2, 0, 2, 0, 1, 2, 0, 0, 2, 2, 0, 0, 2, 2, 0, 0,\n",
       "       0, 2, 0, 2, 2, 2, 2, 0, 2, 2, 0, 2, 2, 0, 2, 2, 1, 1, 1, 1, 1, 1,\n",
       "       1, 1, 1, 1, 1, 1, 1, 1, 1, 1, 1, 1], dtype=int32)"
      ]
     },
     "execution_count": 11,
     "metadata": {},
     "output_type": "execute_result"
    }
   ],
   "source": [
    "# Para cada uma das 100 linhas do dataset, a qual dos 3 clusters ela pertence..0, 1 ou 2 ?\n",
    "# São 100 elementos no array, um por linha\n",
    "labels = kmeans.labels_\n",
    "labels"
   ]
  },
  {
   "cell_type": "code",
   "execution_count": 12,
   "id": "ef760074",
   "metadata": {},
   "outputs": [
    {
     "data": {
      "text/plain": [
       "array([[ 8.97435897e-01,  5.89743590e-01,  4.61538462e-01,\n",
       "         6.92307692e-01,  3.58974359e-01,  3.84615385e-01,\n",
       "         4.35897436e-01, -1.66533454e-16],\n",
       "       [ 6.45161290e-02,  1.00000000e+00,  3.54838710e-01,\n",
       "         3.22580645e-02,  1.00000000e+00,  6.77419355e-01,\n",
       "         4.51612903e-01,  2.90322581e-01],\n",
       "       [ 7.66666667e-01,  6.00000000e-01,  4.66666667e-01,\n",
       "         8.33333333e-01,  3.33333333e-01,  3.00000000e-01,\n",
       "         1.00000000e+00,  1.00000000e+00]])"
      ]
     },
     "execution_count": 12,
     "metadata": {},
     "output_type": "execute_result"
    }
   ],
   "source": [
    "# Exibindo novamente os Centroids (atualizados) - São 3 grupos, portanto, 3 linhas com 8 colunas = 8 features\n",
    "kmeans.cluster_centers_"
   ]
  },
  {
   "cell_type": "code",
   "execution_count": 13,
   "id": "96db9adf",
   "metadata": {},
   "outputs": [
    {
     "data": {
      "image/png": "[encoded data removed]",
      "text/plain": [
       "<Figure size 432x288 with 1 Axes>"
      ]
     },
     "metadata": {
      "needs_background": "light"
     },
     "output_type": "display_data"
    }
   ],
   "source": [
    "# Visualizando os Clusters - Exemplo 1\n",
    "# Dados: 0.Dealership, 1.Showroom, 2.ComputerSearch, 3.M5, 4.3Series, 5.Z4, 6.Financing, 7.Purchase\n",
    "plt.scatter(Xbmw[:, 6], Xbmw[:,7], s = 100, c = kmeans.labels_)\n",
    "plt.scatter(kmeans.cluster_centers_[:, 6], kmeans.cluster_centers_[:, 7], s = 20, c = 'red')\n",
    "plt.title('Customer Clusters and Centroids')\n",
    "plt.xlabel('Financing')\n",
    "plt.ylabel('Purchase')\n",
    "plt.show()"
   ]
  },
  {
   "cell_type": "code",
   "execution_count": 14,
   "id": "f990eadf",
   "metadata": {},
   "outputs": [
    {
     "data": {
      "image/png": "[encoded data removed]",
      "text/plain": [
       "<Figure size 432x288 with 1 Axes>"
      ]
     },
     "metadata": {
      "needs_background": "light"
     },
     "output_type": "display_data"
    }
   ],
   "source": [
    "# Visualizando os Clusters - Exemplo 2\n",
    "# Dados: 0.Dealership, 1.Showroom, 2.ComputerSearch, 3.M5, 4.3Series, 5.Z4, 6.Financing, 7.Purchase\n",
    "plt.scatter(Xbmw[:, 3], Xbmw[:, 7], s = 100, c = kmeans.labels_)\n",
    "plt.scatter(kmeans.cluster_centers_[:, 3], kmeans.cluster_centers_[:, 7], s = 20, c = 'red')\n",
    "plt.title('Customer Clusters and Centroids')\n",
    "plt.xlabel('M5')\n",
    "plt.ylabel('Purchase')\n",
    "plt.show()\n"
   ]
  },
  {
   "cell_type": "code",
   "execution_count": 15,
   "id": "d7241fd3",
   "metadata": {},
   "outputs": [
    {
     "name": "stdout",
     "output_type": "stream",
     "text": [
      "1 190.66000000000003\n",
      "2 149.61111111111114\n",
      "3 127.59750231267347\n",
      "4 115.2151067323481\n",
      "5 104.16186868686869\n",
      "6 93.92049783549784\n",
      "7 84.28976317799848\n",
      "8 78.7813492063492\n",
      "9 73.70983248777367\n",
      "10 66.93806471306472\n"
     ]
    }
   ],
   "source": [
    "# Cálculo do WCSSE - Within Cluster Sum of Squared Errors\n",
    "wcsse = []\n",
    "maxclusters = 11\n",
    "for i in range(1, maxclusters):\n",
    "    kmeans = KMeans(n_clusters = i, init = 'random')\n",
    "    kmeans.fit(Xbmw)\n",
    "    print (i,kmeans.inertia_)\n",
    "    wcsse.append(kmeans.inertia_)"
   ]
  },
  {
   "cell_type": "code",
   "execution_count": 16,
   "id": "db9240ae",
   "metadata": {},
   "outputs": [
    {
     "data": {
      "image/png": "[encoded data removed]",
      "text/plain": [
       "<Figure size 432x288 with 1 Axes>"
      ]
     },
     "metadata": {
      "needs_background": "light"
     },
     "output_type": "display_data"
    }
   ],
   "source": [
    "# Plotagem do Gráfico para visualização do \"cotovelo\" - Método de Elbow\n",
    "# Ao final do Estudo do Metodo de Elbow a seguir, foram gerados 11 clusters\n",
    "plt.plot(range(1, maxclusters), wcsse)\n",
    "plt.title('O Metodo Elbow')\n",
    "plt.xlabel('Qtde, de Clusters')\n",
    "plt.ylabel('WCSSE') # Within Cluster Sum of Squares\n",
    "plt.show()\n"
   ]
  },
  {
   "cell_type": "code",
   "execution_count": 17,
   "id": "8da2c935",
   "metadata": {},
   "outputs": [
    {
     "data": {
      "text/plain": [
       "array([6], dtype=int32)"
      ]
     },
     "execution_count": 17,
     "metadata": {},
     "output_type": "execute_result"
    }
   ],
   "source": [
    "# Para o cliente 1 => Dealership=1, Showroom=1, ComputerSearch=1, M5=1, 3Series=1,\n",
    "#                Z4=1, Financing=1, Purchase=1, qual grupo ele pertence?\n",
    "# O comando predict nos traz o cluster=4\n",
    "newcustomer1= [ [1, 1, 1, 1, 1, 1, 1, 1] ]\n",
    "kmeans.predict(newcustomer1)\n"
   ]
  },
  {
   "cell_type": "code",
   "execution_count": 18,
   "id": "aeb961e4",
   "metadata": {},
   "outputs": [
    {
     "data": {
      "text/plain": [
       "array([0], dtype=int32)"
      ]
     },
     "execution_count": 18,
     "metadata": {},
     "output_type": "execute_result"
    }
   ],
   "source": [
    "# Para o cliente 2 => Dealership=1, Showroom=0, ComputerSearch=0, M5=0, 3Series=1,\n",
    "#                Z4=1, Financing=1, Purchase=1, qual grupo ele pertence?\n",
    "# O comando predict nos traz o cluster=2\n",
    "newcustomer2 = [ [1, 0, 0, 0, 1, 1, 1, 1] ]\n",
    "kmeans.predict(newcustomer2)\n"
   ]
  },
  {
   "cell_type": "code",
   "execution_count": null,
   "id": "f8f4e69d",
   "metadata": {},
   "outputs": [],
   "source": []
  }
 ],
 "metadata": {
  "kernelspec": {
   "display_name": "Python 3",
   "language": "python",
   "name": "python3"
  },
  "language_info": {
   "codemirror_mode": {
    "name": "ipython",
    "version": 3
   },
   "file_extension": ".py",
   "mimetype": "text/x-python",
   "name": "python",
   "nbconvert_exporter": "python",
   "pygments_lexer": "ipython3",
   "version": "3.8.10"
  }
 },
 "nbformat": 4,
 "nbformat_minor": 5
}
