{
 "cells": [
  {
   "cell_type": "code",
   "execution_count": 1,
   "id": "38dae62d",
   "metadata": {},
   "outputs": [],
   "source": [
    "import pandas as pd\n",
    "import matplotlib.pyplot as plt\n",
    "import numpy as np \n",
    "from sklearn.linear_model import LinearRegression "
   ]
  },
  {
   "cell_type": "code",
   "execution_count": 2,
   "id": "e421c947",
   "metadata": {},
   "outputs": [],
   "source": [
    "df = pd.read_csv('house.csv', ';')"
   ]
  },
  {
   "cell_type": "code",
   "execution_count": 3,
   "id": "66920028",
   "metadata": {},
   "outputs": [
    {
     "data": {
      "text/html": [
       "<div>\n",
       "<style scoped>\n",
       "    .dataframe tbody tr th:only-of-type {\n",
       "        vertical-align: middle;\n",
       "    }\n",
       "\n",
       "    .dataframe tbody tr th {\n",
       "        vertical-align: top;\n",
       "    }\n",
       "\n",
       "    .dataframe thead th {\n",
       "        text-align: right;\n",
       "    }\n",
       "</style>\n",
       "<table border=\"1\" class=\"dataframe\">\n",
       "  <thead>\n",
       "    <tr style=\"text-align: right;\">\n",
       "      <th></th>\n",
       "      <th>houseSize</th>\n",
       "      <th>lotSize</th>\n",
       "      <th>bedrooms</th>\n",
       "      <th>granite</th>\n",
       "      <th>bathroom</th>\n",
       "      <th>sellingPrice</th>\n",
       "    </tr>\n",
       "  </thead>\n",
       "  <tbody>\n",
       "    <tr>\n",
       "      <th>0</th>\n",
       "      <td>3529</td>\n",
       "      <td>9191</td>\n",
       "      <td>6</td>\n",
       "      <td>0</td>\n",
       "      <td>0</td>\n",
       "      <td>205000</td>\n",
       "    </tr>\n",
       "    <tr>\n",
       "      <th>1</th>\n",
       "      <td>3247</td>\n",
       "      <td>10061</td>\n",
       "      <td>5</td>\n",
       "      <td>1</td>\n",
       "      <td>1</td>\n",
       "      <td>224900</td>\n",
       "    </tr>\n",
       "    <tr>\n",
       "      <th>2</th>\n",
       "      <td>4032</td>\n",
       "      <td>10150</td>\n",
       "      <td>5</td>\n",
       "      <td>0</td>\n",
       "      <td>1</td>\n",
       "      <td>197900</td>\n",
       "    </tr>\n",
       "    <tr>\n",
       "      <th>3</th>\n",
       "      <td>2397</td>\n",
       "      <td>14156</td>\n",
       "      <td>4</td>\n",
       "      <td>1</td>\n",
       "      <td>0</td>\n",
       "      <td>189900</td>\n",
       "    </tr>\n",
       "    <tr>\n",
       "      <th>4</th>\n",
       "      <td>2200</td>\n",
       "      <td>9600</td>\n",
       "      <td>4</td>\n",
       "      <td>0</td>\n",
       "      <td>1</td>\n",
       "      <td>195000</td>\n",
       "    </tr>\n",
       "    <tr>\n",
       "      <th>5</th>\n",
       "      <td>3536</td>\n",
       "      <td>19994</td>\n",
       "      <td>6</td>\n",
       "      <td>1</td>\n",
       "      <td>1</td>\n",
       "      <td>325000</td>\n",
       "    </tr>\n",
       "    <tr>\n",
       "      <th>6</th>\n",
       "      <td>2983</td>\n",
       "      <td>9365</td>\n",
       "      <td>5</td>\n",
       "      <td>0</td>\n",
       "      <td>1</td>\n",
       "      <td>230000</td>\n",
       "    </tr>\n",
       "  </tbody>\n",
       "</table>\n",
       "</div>"
      ],
      "text/plain": [
       "   houseSize  lotSize  bedrooms  granite  bathroom  sellingPrice\n",
       "0       3529     9191         6        0         0        205000\n",
       "1       3247    10061         5        1         1        224900\n",
       "2       4032    10150         5        0         1        197900\n",
       "3       2397    14156         4        1         0        189900\n",
       "4       2200     9600         4        0         1        195000\n",
       "5       3536    19994         6        1         1        325000\n",
       "6       2983     9365         5        0         1        230000"
      ]
     },
     "execution_count": 3,
     "metadata": {},
     "output_type": "execute_result"
    }
   ],
   "source": [
    "df"
   ]
  },
  {
   "cell_type": "markdown",
   "id": "445d013f",
   "metadata": {},
   "source": [
    "# Regressão lotSize x sellingPrice"
   ]
  },
  {
   "cell_type": "code",
   "execution_count": 4,
   "id": "a658a64a",
   "metadata": {},
   "outputs": [],
   "source": [
    "x = np.array(df[['lotSize', 'houseSize', 'bedrooms', 'granite', 'bathroom']]).reshape((-1, 1))"
   ]
  },
  {
   "cell_type": "code",
   "execution_count": 5,
   "id": "dc1d03c5",
   "metadata": {},
   "outputs": [],
   "source": [
    "y = np.array(df[['sellingPrice', 'sellingPrice', 'sellingPrice', 'sellingPrice', 'sellingPrice']]).reshape((-1, 1))"
   ]
  },
  {
   "cell_type": "code",
   "execution_count": 6,
   "id": "78d880ab",
   "metadata": {},
   "outputs": [
    {
     "data": {
      "text/plain": [
       "<matplotlib.collections.PathCollection at 0x7f55e68ea910>"
      ]
     },
     "execution_count": 6,
     "metadata": {},
     "output_type": "execute_result"
    },
    {
     "data": {
      "image/png": "[encoded data removed]",
      "text/plain": [
       "<Figure size 432x288 with 1 Axes>"
      ]
     },
     "metadata": {
      "needs_background": "light"
     },
     "output_type": "display_data"
    }
   ],
   "source": [
    "plt.scatter(x, y,  color='blue', linewidth=3) "
   ]
  },
  {
   "cell_type": "code",
   "execution_count": 7,
   "id": "8187afcb",
   "metadata": {},
   "outputs": [],
   "source": [
    "model = LinearRegression()"
   ]
  },
  {
   "cell_type": "code",
   "execution_count": 8,
   "id": "6c5e0599",
   "metadata": {},
   "outputs": [
    {
     "data": {
      "text/plain": [
       "LinearRegression(copy_X=True, fit_intercept=True, n_jobs=None, normalize=False)"
      ]
     },
     "execution_count": 8,
     "metadata": {},
     "output_type": "execute_result"
    }
   ],
   "source": [
    "model.fit(x, y)"
   ]
  },
  {
   "cell_type": "code",
   "execution_count": 9,
   "id": "17eeeee5",
   "metadata": {},
   "outputs": [],
   "source": [
    "reg = model.score(x, y)"
   ]
  },
  {
   "cell_type": "markdown",
   "id": "f6704a95",
   "metadata": {},
   "source": [
    "# Coeficiente de Correlação"
   ]
  },
  {
   "cell_type": "code",
   "execution_count": 10,
   "id": "8b8fb134",
   "metadata": {},
   "outputs": [
    {
     "data": {
      "text/plain": [
       "0.016369563898140593"
      ]
     },
     "execution_count": 10,
     "metadata": {},
     "output_type": "execute_result"
    }
   ],
   "source": [
    "reg"
   ]
  },
  {
   "cell_type": "markdown",
   "id": "29b05302",
   "metadata": {},
   "source": [
    "# Cálculo do Root Mean Square Error RMSE\n"
   ]
  },
  {
   "cell_type": "code",
   "execution_count": 11,
   "id": "923bc178",
   "metadata": {},
   "outputs": [
    {
     "data": {
      "text/plain": [
       "1866623835.61799"
      ]
     },
     "execution_count": 11,
     "metadata": {},
     "output_type": "execute_result"
    }
   ],
   "source": [
    "np.mean((model.predict(x)-y)**2)"
   ]
  },
  {
   "cell_type": "code",
   "execution_count": 12,
   "id": "ecb8821b",
   "metadata": {},
   "outputs": [
    {
     "data": {
      "text/plain": [
       "array([220536.44839236])"
      ]
     },
     "execution_count": 12,
     "metadata": {},
     "output_type": "execute_result"
    }
   ],
   "source": [
    "model.intercept_"
   ]
  },
  {
   "cell_type": "code",
   "execution_count": 13,
   "id": "1214266d",
   "metadata": {},
   "outputs": [
    {
     "data": {
      "text/plain": [
       "array([[1.14586258]])"
      ]
     },
     "execution_count": 13,
     "metadata": {},
     "output_type": "execute_result"
    }
   ],
   "source": [
    "model.coef_"
   ]
  },
  {
   "cell_type": "markdown",
   "id": "822c18b5",
   "metadata": {},
   "source": [
    "# Predição"
   ]
  },
  {
   "cell_type": "code",
   "execution_count": 14,
   "id": "b9d47085",
   "metadata": {},
   "outputs": [],
   "source": [
    "x_prev = x"
   ]
  },
  {
   "cell_type": "code",
   "execution_count": 15,
   "id": "2c2e9fce",
   "metadata": {},
   "outputs": [],
   "source": [
    "y_prev = model.predict(x_prev)"
   ]
  },
  {
   "cell_type": "code",
   "execution_count": 16,
   "id": "712cc5e7",
   "metadata": {},
   "outputs": [
    {
     "data": {
      "text/plain": [
       "array([[231068.07140549],\n",
       "       [224580.19745267],\n",
       "       [220543.32356787],\n",
       "       [220536.44839236],\n",
       "       [220536.44839236],\n",
       "       [232064.9718539 ],\n",
       "       [224257.06420387],\n",
       "       [220542.17770528],\n",
       "       [220537.59425495],\n",
       "       [220537.59425495],\n",
       "       [232166.95362392],\n",
       "       [225156.56633262],\n",
       "       [220542.17770528],\n",
       "       [220536.44839236],\n",
       "       [220537.59425495],\n",
       "       [236757.27913698],\n",
       "       [223283.08100714],\n",
       "       [220541.0318427 ],\n",
       "       [220537.59425495],\n",
       "       [220536.44839236],\n",
       "       [231536.7292025 ],\n",
       "       [223057.34607802],\n",
       "       [220541.0318427 ],\n",
       "       [220536.44839236],\n",
       "       [220537.59425495],\n",
       "       [243446.82490465],\n",
       "       [224588.21849076],\n",
       "       [220543.32356787],\n",
       "       [220537.59425495],\n",
       "       [220537.59425495],\n",
       "       [231267.45149517],\n",
       "       [223954.5564816 ],\n",
       "       [220542.17770528],\n",
       "       [220536.44839236],\n",
       "       [220537.59425495]])"
      ]
     },
     "execution_count": 16,
     "metadata": {},
     "output_type": "execute_result"
    }
   ],
   "source": [
    "y_prev"
   ]
  },
  {
   "cell_type": "code",
   "execution_count": 17,
   "id": "2764251b",
   "metadata": {},
   "outputs": [
    {
     "data": {
      "text/plain": [
       "231068.07140548568"
      ]
     },
     "execution_count": 17,
     "metadata": {},
     "output_type": "execute_result"
    }
   ],
   "source": [
    "y_prev[0][0]"
   ]
  },
  {
   "cell_type": "code",
   "execution_count": null,
   "id": "4b4614b0",
   "metadata": {},
   "outputs": [],
   "source": []
  }
 ],
 "metadata": {
  "kernelspec": {
   "display_name": "Python 3",
   "language": "python",
   "name": "python3"
  },
  "language_info": {
   "codemirror_mode": {
    "name": "ipython",
    "version": 3
   },
   "file_extension": ".py",
   "mimetype": "text/x-python",
   "name": "python",
   "nbconvert_exporter": "python",
   "pygments_lexer": "ipython3",
   "version": "3.8.10"
  }
 },
 "nbformat": 4,
 "nbformat_minor": 5
}
